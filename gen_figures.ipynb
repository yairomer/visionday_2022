{
 "cells": [
  {
   "cell_type": "code",
   "execution_count": 1,
   "metadata": {
    "ExecuteTime": {
     "end_time": "2022-01-15T00:19:51.589070Z",
     "start_time": "2022-01-15T00:19:51.113215Z"
    },
    "id": "wAps62zCRO-j"
   },
   "outputs": [],
   "source": [
    "import os\n",
    "import io\n",
    "\n",
    "import numpy as np\n",
    "import matplotlib as mpl\n",
    "import matplotlib.pyplot as plt\n",
    "import pandas as pd\n",
    "import PIL\n",
    "from tqdm.notebook import tqdm\n",
    "from IPython.display import display, Image"
   ]
  },
  {
   "cell_type": "markdown",
   "metadata": {},
   "source": [
    "## Parameters"
   ]
  },
  {
   "cell_type": "code",
   "execution_count": 2,
   "metadata": {
    "ExecuteTime": {
     "end_time": "2022-01-15T00:19:51.594625Z",
     "start_time": "2022-01-15T00:19:51.590144Z"
    }
   },
   "outputs": [],
   "source": [
    "rand_gen = np.random.RandomState(1)\n",
    "n_samples = 100\n",
    "mu_gt = np.array([[1, 1], [1, -1]]) @ np.array([0, 0])\n",
    "sigma_gt = np.array([[1, 1], [1, -1]]) @ (np.diag([5e-2, 5e-1]) ** 2) @ np.array([[1, 1], [1, -1]])\n",
    "\n",
    "mu = np.array([1, 1])\n",
    "sigma = np.diag([5e-3, 5e-3])\n",
    "\n",
    "alpha = 0.03\n",
    "n_steps_mcmc = 200\n",
    "n_steps_cd = 5"
   ]
  },
  {
   "cell_type": "code",
   "execution_count": 3,
   "metadata": {
    "ExecuteTime": {
     "end_time": "2022-01-15T00:19:51.605056Z",
     "start_time": "2022-01-15T00:19:51.596156Z"
    }
   },
   "outputs": [],
   "source": [
    "color1 = '#1f77b4'\n",
    "color2 = '#ff7f0e'\n",
    "color3 = '#2ca02c'\n",
    "color4 = '#d62728'\n",
    "\n",
    "## Distribution color map\n",
    "color4_rgb = np.array([int(color4[1:3], 16), int(color4[3:5], 16), int(color4[5:7], 16)]) / 255\n",
    "cmap = np.repeat(color4_rgb[None, :], 100, axis=0)\n",
    "cmap = np.concatenate((cmap, np.linspace(0.75, 0, cmap.shape[0])[:, None]), axis=1)\n",
    "cmap = mpl.colors.ListedColormap(cmap)"
   ]
  },
  {
   "cell_type": "markdown",
   "metadata": {},
   "source": [
    "## Initialize"
   ]
  },
  {
   "cell_type": "code",
   "execution_count": 4,
   "metadata": {
    "ExecuteTime": {
     "end_time": "2022-01-15T00:19:51.615388Z",
     "start_time": "2022-01-15T00:19:51.606189Z"
    },
    "id": "wAps62zCRO-j"
   },
   "outputs": [],
   "source": [
    "## Create output folder\n",
    "if not os.path.isdir('./output'):\n",
    "    os.mkdir('./output')"
   ]
  },
  {
   "cell_type": "markdown",
   "metadata": {},
   "source": [
    "## Auxiliary function"
   ]
  },
  {
   "cell_type": "code",
   "execution_count": 5,
   "metadata": {
    "ExecuteTime": {
     "end_time": "2022-01-15T00:19:51.628684Z",
     "start_time": "2022-01-15T00:19:51.616421Z"
    }
   },
   "outputs": [],
   "source": [
    "class GIFWrite:\n",
    "    def __init__(self, fig):\n",
    "        self._fig = fig\n",
    "        self._imgs = []\n",
    "    def append(self):\n",
    "        fig.canvas.draw()\n",
    "        with io.BytesIO() as buf:\n",
    "            self._fig.savefig(buf, pad_inches=0, format='png', transparent=True)\n",
    "            buf.seek(0)\n",
    "            img = PIL.Image.open(buf).copy()\n",
    "        self._imgs.append(img)\n",
    "    def save(self, filename, duration):\n",
    "        print(int(duration * 1000 / len(self._imgs)))\n",
    "        self._imgs[0].save(filename,\n",
    "                           save_all=True,\n",
    "                           append_images=self._imgs[1:],\n",
    "                           optimize=False,\n",
    "                           duration=int(duration * 1000 / len(self._imgs)),\n",
    "                           # transparency=0,\n",
    "                           loop=1,\n",
    "                           # disposal=2,\n",
    "                           )"
   ]
  },
  {
   "cell_type": "markdown",
   "metadata": {},
   "source": [
    "## Define distribution"
   ]
  },
  {
   "cell_type": "code",
   "execution_count": 6,
   "metadata": {
    "ExecuteTime": {
     "end_time": "2022-01-15T00:19:51.754154Z",
     "start_time": "2022-01-15T00:19:51.632757Z"
    },
    "id": "Up4gkRRpDWyo"
   },
   "outputs": [],
   "source": [
    "## Energy functions\n",
    "def energy_func(x, mu, sigma):\n",
    "    return np.log(x).sum(axis=1) + 0.5 * (((np.log(x) - mu[None, :]) @ np.linalg.inv(sigma)) * (np.log(x) - mu[None, :])).sum(axis=1)\n",
    "\n",
    "def grad_energy_func(x, mu, sigma):\n",
    "    return ((np.log(x) - mu[None, :]) @ np.linalg.inv(sigma) - 1) / x\n",
    "\n",
    "## Generate GT\n",
    "samples_gt = np.exp(rand_gen.randn(n_samples, 2) @ np.linalg.cholesky(sigma_gt).T + mu_gt[None, :])\n",
    "\n",
    "## Generate model's samples\n",
    "samples = np.exp(rand_gen.randn(n_samples, 2) @ np.linalg.cholesky(sigma).T + mu[None, :])\n",
    "\n",
    "## Calculate energy\n",
    "grid = np.stack(np.meshgrid(np.linspace(1e-10, 4, 400), np.linspace(1e-10, 4, 400)), axis=2)\n",
    "energy = energy_func(grid.reshape(-1, 2), mu, sigma).reshape(grid.shape[:2])\n",
    "energy_gt = energy_func(grid.reshape(-1, 2), mu_gt, sigma_gt).reshape(grid.shape[:2])"
   ]
  },
  {
   "cell_type": "markdown",
   "metadata": {
    "ExecuteTime": {
     "end_time": "2022-01-14T22:04:57.222996Z",
     "start_time": "2022-01-14T22:04:57.112319Z"
    },
    "id": "Up4gkRRpDWyo"
   },
   "source": [
    "## Run MCMC"
   ]
  },
  {
   "cell_type": "code",
   "execution_count": 7,
   "metadata": {
    "ExecuteTime": {
     "end_time": "2022-01-15T00:19:51.773656Z",
     "start_time": "2022-01-15T00:19:51.755713Z"
    },
    "id": "Up4gkRRpDWyo"
   },
   "outputs": [],
   "source": [
    "samples_mcmc = rand_gen.rand(*samples.shape) + 1.5\n",
    "steps_mcmc = [samples_mcmc.copy()]\n",
    "for _ in range(n_steps_mcmc):\n",
    "    samples_mcmc += -alpha ** 2 / 2 * grad_energy_func(samples_mcmc, mu, sigma) + alpha * rand_gen.randn(*samples_mcmc.shape)\n",
    "    steps_mcmc.append(samples_mcmc.copy())\n",
    "steps_mcmc = np.stack(steps_mcmc, axis=0)"
   ]
  },
  {
   "cell_type": "markdown",
   "metadata": {
    "ExecuteTime": {
     "end_time": "2022-01-14T22:04:57.222996Z",
     "start_time": "2022-01-14T22:04:57.112319Z"
    },
    "id": "Up4gkRRpDWyo"
   },
   "source": [
    "## Run CD-MCMC"
   ]
  },
  {
   "cell_type": "code",
   "execution_count": 8,
   "metadata": {
    "ExecuteTime": {
     "end_time": "2022-01-15T00:19:51.780616Z",
     "start_time": "2022-01-15T00:19:51.776490Z"
    },
    "id": "Up4gkRRpDWyo"
   },
   "outputs": [],
   "source": [
    "samples_cd = samples_gt.copy()\n",
    "steps_cd = [samples_cd.copy()]\n",
    "for _ in range(n_steps_cd):\n",
    "    samples_cd += -alpha ** 2 / 2 * grad_energy_func(samples_cd, mu, sigma) + alpha * rand_gen.randn(*samples_cd.shape)\n",
    "    steps_cd.append(samples_cd.copy())\n",
    "steps_cd = np.stack(steps_cd, axis=0)"
   ]
  },
  {
   "cell_type": "markdown",
   "metadata": {},
   "source": [
    "## Plots"
   ]
  },
  {
   "cell_type": "code",
   "execution_count": 39,
   "metadata": {
    "ExecuteTime": {
     "end_time": "2022-01-15T18:04:22.311269Z",
     "start_time": "2022-01-15T18:03:57.063080Z"
    },
    "colab": {
     "base_uri": "https://localhost:8080/",
     "height": 1000,
     "referenced_widgets": [
      "0b842e5a3dd64f05856cc9ec1866f1ed",
      "8964b77e81c54987b751f724869c874a",
      "098951ff182245cbbf4d4cecf3bb9ec6",
      "376dc06210614865be9c7fc300c22ebd",
      "fb9261605b67456bb9ea48c0d5439c9c",
      "320a4babbcd04a7cac9c96b4601685cf",
      "bf9c1df323964ac9b94b65e3969fa24a",
      "99cb9f4943e3483ea8b6d474d698cba3",
      "be09a9eff4b344a7a9f86d585e933c1f",
      "7d6918785f144fb8993ba5685349b47f",
      "4a1943296cdf4b1881a3844757093915",
      "dd665cf23e834330bdcda2929da3219b",
      "79dd6eda198645d4b171ae015a77c751",
      "bac59a3056ca4aafb8b8529601412fff",
      "bac2aea99c204ca49870f8e7749dcdc9",
      "3aac2dbb2c27467aa93cac6cd020e628",
      "f44f10b216ab4164becf3d713a4ec97f",
      "81496da95e0f4a31a7b828d8fcd43527",
      "ec0575be31d74b7b8965160eeec2187a",
      "8ef9a9e459c64548a25f8d747a2db074",
      "4ab25c49bf664d97a654a389983f22b4",
      "815d02d7131541af887f78b77d063beb",
      "cd03c8dd7721474d87ba350782918912",
      "10520cebf7ef4d89ab41760868b474fa",
      "bcef2cdf731b4f4e928a66f997fe65cc",
      "1c96894878fa431f9589e15efa85e6e9",
      "5dda4d60b7dc48a2b9155827a5ebb795",
      "2e3c4002792041b0a9ba3eda9b1de835",
      "2249a19dafa24e458b5fd8a7b67b4968",
      "f1a00b8f3d9d49fdb112b578b9e6cfbf",
      "b68c855c15ff41bc88f5af0796d7afe2",
      "14799b80303d417ea5692470a456dc47"
     ]
    },
    "id": "mDPCT87bS1Rw",
    "outputId": "3fb8b098-8e85-42cb-8e79-2b9d417641d1"
   },
   "outputs": [
    {
     "data": {
      "application/vnd.jupyter.widget-view+json": {
       "model_id": "8d50d5fe96f74cf8851b7e17ca06a4dd",
       "version_major": 2,
       "version_minor": 0
      },
      "text/plain": [
       "  0%|          | 0/50 [00:00<?, ?it/s]"
      ]
     },
     "metadata": {},
     "output_type": "display_data"
    },
    {
     "name": "stdout",
     "output_type": "stream",
     "text": [
      "40\n"
     ]
    },
    {
     "data": {
      "application/vnd.jupyter.widget-view+json": {
       "model_id": "97055bdc561f4f4cb37f55eb6a9db9ad",
       "version_major": 2,
       "version_minor": 0
      },
      "text/plain": [
       "  0%|          | 0/67 [00:00<?, ?it/s]"
      ]
     },
     "metadata": {},
     "output_type": "display_data"
    },
    {
     "name": "stdout",
     "output_type": "stream",
     "text": [
      "29\n"
     ]
    },
    {
     "data": {
      "application/vnd.jupyter.widget-view+json": {
       "model_id": "ebc1b4617ee449118778fc01829f6dae",
       "version_major": 2,
       "version_minor": 0
      },
      "text/plain": [
       "  0%|          | 0/6 [00:00<?, ?it/s]"
      ]
     },
     "metadata": {},
     "output_type": "display_data"
    },
    {
     "name": "stdout",
     "output_type": "stream",
     "text": [
      "285\n"
     ]
    },
    {
     "data": {
      "application/vnd.jupyter.widget-view+json": {
       "model_id": "b760357de40d4d47b554b86299fe7802",
       "version_major": 2,
       "version_minor": 0
      },
      "text/plain": [
       "  0%|          | 0/6 [00:00<?, ?it/s]"
      ]
     },
     "metadata": {},
     "output_type": "display_data"
    },
    {
     "name": "stdout",
     "output_type": "stream",
     "text": [
      "285\n"
     ]
    }
   ],
   "source": [
    "## Prepare figure\n",
    "## --------------\n",
    "fig = plt.figure(figsize=(4, 4), dpi=200)\n",
    "ax = fig.add_axes((0, 0, 1, 1))\n",
    "ax.set_xlim(-0.5, 4)\n",
    "ax.set_ylim(-0.5, 4)\n",
    "ax.axis('off')\n",
    "\n",
    "## Draw axis\n",
    "## ---------\n",
    "ax.arrow(0, -0.5, 0, 4, head_width=0.1, head_length=0.1, fc='k', ec='k')\n",
    "ax.arrow(-0.5, 0, 4, 0, head_width=0.1, head_length=0.1, fc='k', ec='k')\n",
    "\n",
    "## Plot dataset\n",
    "## ------------\n",
    "gt_points = ax.plot(samples_gt[:, 0], samples_gt[:, 1], '.', color=color1, label='Dataset')[0]\n",
    "\n",
    "## Save: samples.png\n",
    "## -----------------\n",
    "fig.canvas.draw()\n",
    "fig.savefig('./output/samples.png', pad_inches=0, transparent=True)\n",
    "\n",
    "## Plot initial model\n",
    "## ------------------\n",
    "eng_img = ax.imshow(energy,\n",
    "                    extent=[1e-10, 4, 1e-10, 4],\n",
    "                    origin='lower',\n",
    "                    cmap=cmap,\n",
    "                    vmin=energy.min(),\n",
    "                    vmax=energy.min() + 8,\n",
    "                    alpha=0.9,\n",
    "                    interpolation='nearest',\n",
    "                    label='Model'\n",
    "                    )\n",
    "\n",
    "## Save: samples_and_model.png\n",
    "## ---------------------------\n",
    "fig.canvas.draw()\n",
    "fig.savefig('./output/samples_and_model.png', pad_inches=0, transparent=True)\n",
    "\n",
    "## Generate animate: train.png\n",
    "## ---------------------------\n",
    "gif_writer = GIFWrite(fig)\n",
    "for step, t in enumerate(tqdm(np.linspace(0, 1, 50))):\n",
    "    mu_t = t * mu_gt + (1 - t) * mu\n",
    "    sigma_t = t * sigma_gt + (1 - t) * sigma\n",
    "    energy_t = energy_func(grid.reshape(-1, 2), mu_t, sigma_t).reshape(grid.shape[:2])\n",
    "    eng_img.set_data(energy_t)\n",
    "    gif_writer.append()\n",
    "gif_writer.save('./output/train.png', duration=2)\n",
    "\n",
    "## Plot model's points\n",
    "## -------------------\n",
    "eng_img.set_data(energy)\n",
    "samples_points = ax.plot(samples[:, 0], samples[:, 1], '.', color=color3)[0]\n",
    "\n",
    "## Save: contrastive_samples.png\n",
    "## -----------------------------\n",
    "fig.canvas.draw()\n",
    "fig.savefig('./output/contrastive_samples.png', pad_inches=0, transparent=True)\n",
    "samples_points.remove()\n",
    "\n",
    "## Generate animate: mcmc.png\n",
    "## --------------------------\n",
    "mcmc_line = ax.plot([], [], '-', color=color3, lw=1)[0]\n",
    "samples_points = ax.plot([], [], '.', color=color3)[0]\n",
    "gif_writer = GIFWrite(fig)\n",
    "for t in tqdm(range(0, steps_mcmc.shape[0], 3)):\n",
    "    mcmc_line.set_data(steps_mcmc[:(t + 1), 0, 0], steps_mcmc[:(t + 1), 0, 1])\n",
    "    gif_writer.append()\n",
    "samples_points.set_data(steps_mcmc[t, 0, 0], steps_mcmc[t, 0, 1])\n",
    "gif_writer.append()\n",
    "gif_writer.save('./output/mcmc.png', duration=2)\n",
    "samples_points.remove()\n",
    "mcmc_line.remove()\n",
    "\n",
    "## Generate animate: cd.png\n",
    "## ------------------------\n",
    "n = 20\n",
    "cd_lines = ax.plot(np.zeros((0, n)), np.zeros((0, n)), '-', color=color2, lw=1, zorder=-1)\n",
    "gif_writer = GIFWrite(fig)\n",
    "for t in tqdm(range(steps_cd.shape[0])):\n",
    "    for i, line in enumerate(cd_lines):\n",
    "        line.set_data(steps_cd[:(t + 1), i, 0], steps_cd[:(t + 1), i, 1])\n",
    "    gif_writer.append()\n",
    "cd_points = ax.plot(steps_cd[t, :n, 0], steps_cd[t, :n, 1], '.', color=color2)[0]\n",
    "gif_writer.append()\n",
    "gif_writer.save('./output/cd.png', duration=2)\n",
    "# fig.savefig('./output/cd.png', pad_inches=0, transparent=True)\n",
    "\n",
    "## Save: cd_static.png\n",
    "## -----------------\n",
    "fig.canvas.draw()\n",
    "fig.savefig('./output/cd_static.png', pad_inches=0, transparent=True)\n",
    "\n",
    "## Save: cd_samples.png\n",
    "## --------------------\n",
    "for line in cd_lines:\n",
    "    line.remove()\n",
    "fig.canvas.draw()\n",
    "fig.savefig('./output/cd_samples.png', pad_inches=0, transparent=True)\n",
    "\n",
    "## Save: all_samples.png\n",
    "## ---------------------\n",
    "samples_points = ax.plot(samples[:, 0], samples[:, 1], '.', color=color3)[0]\n",
    "fig.canvas.draw()\n",
    "fig.savefig('./output/all_samples.png', pad_inches=0, transparent=True)\n",
    "samples_points.remove()\n",
    "cd_points.remove()\n",
    "\n",
    "## Generate animate: single_cd.png\n",
    "## -------------------------------\n",
    "gt_points.set_alpha(0.2)\n",
    "cd_line = ax.plot([], [], '.-', color=color2, lw=1)[0]\n",
    "gt_point = ax.plot(samples_gt[0, 0], samples_gt[0, 1], '.', color=color1, label='Dataset')[0]\n",
    "gif_writer = GIFWrite(fig)\n",
    "for t in tqdm(range(steps_cd.shape[0])):\n",
    "    cd_line.set_data(steps_cd[:(t + 1), 0, 0], steps_cd[:(t + 1), 0, 1])\n",
    "    gif_writer.append()\n",
    "# cd_points = ax.plot(steps_cd[t, 0, 0], steps_cd[t, 0, 1], '.', color='#ff7f0e')[0]\n",
    "gif_writer.append()\n",
    "gif_writer.save('./output/single_cd.png', duration=2)\n",
    "# fig.savefig('./output/single_cd.png', pad_inches=0, transparent=True)\n",
    "\n",
    "# plt.close(fig)\n",
    "# display(Image(open('./output/samples.png','rb').read()))\n"
   ]
  },
  {
   "cell_type": "markdown",
   "metadata": {},
   "source": [
    "## Plot single CD zoom"
   ]
  },
  {
   "cell_type": "code",
   "execution_count": 25,
   "metadata": {
    "ExecuteTime": {
     "end_time": "2022-01-15T11:16:29.964983Z",
     "start_time": "2022-01-15T11:16:29.832495Z"
    },
    "colab": {
     "base_uri": "https://localhost:8080/",
     "height": 447
    },
    "id": "GLEuaejzBsvz",
    "outputId": "f61d0c7a-e354-49f5-8936-317dc29e36a1"
   },
   "outputs": [],
   "source": [
    "fig, ax = plt.subplots(figsize=(1.5, 2.25), dpi=200)\n",
    "ax.axis('off')\n",
    "ax.axis('equal')\n",
    "plt.tight_layout()\n",
    "cd_line = ax.plot(steps_cd[:, 0, 0], steps_cd[:, 0, 1], '.-', color='#ff7f0e', lw=1)[0]\n",
    "gt_points = ax.plot(samples_gt[0, 0], samples_gt[0, 1], '.', color='#1f77b4', label='Dataset')[0]\n",
    "steps_texts = []\n",
    "for i in range(steps_cd.shape[0]):\n",
    "     steps_texts.append(ax.text(steps_cd[i, 0, 0] + 0.02, steps_cd[i, 0, 1], f'$x^{{({i})}}$', va='center'))\n",
    "\n",
    "## Save: single_cd_zoom.png\n",
    "## ------------------------\n",
    "fig.savefig('./output/single_cd_zoom.png', pad_inches=0, transparent=True)\n",
    "\n",
    "## Save: single_cd_zoom.png\n",
    "## ------------------------\n",
    "for steps_text in steps_texts:\n",
    "    steps_text.remove()\n",
    "fig.savefig('./output/single_cd_original.png', pad_inches=0, transparent=True)\n",
    "\n",
    "## Save: single_cd_revesed_zoom.png\n",
    "## ------------------------\n",
    "gt_points.set_data(steps_cd[-1, 0, 0], steps_cd[-1, 0, 1])\n",
    "fig.savefig('./output/single_cd_revesed_zoom.png', pad_inches=0, transparent=True)\n",
    "\n",
    "## Save: single_cd_clean.png\n",
    "## -------------------------\n",
    "gt_points.remove()\n",
    "fig.savefig('./output/single_cd_clean.png', pad_inches=0, transparent=True)"
   ]
  },
  {
   "cell_type": "code",
   "execution_count": null,
   "metadata": {
    "id": "VGZwwdNjwpCK"
   },
   "outputs": [],
   "source": []
  },
  {
   "cell_type": "markdown",
   "metadata": {
    "id": "EyplAVg2R5Vz"
   },
   "source": [
    "$$\n",
    "\\nabla_{\\boldsymbol{\\theta}}\\mathcal{O}=\n",
    "\\mathbb{E}\\left[\\nabla_{\\boldsymbol{\\theta}} E(\\tilde{\\mathbf{x}};\\boldsymbol{\\theta})\n",
    "-\\nabla_{\\boldsymbol{\\theta}} E(\\mathbf{x};\\boldsymbol{\\theta})\\right]\n",
    "+\\frac{\\partial D_{\\text{KL}}(p_{\\text{CD}}||p_{\\text{Model}})}{\\partial p_{\\text{CD}}}\\nabla_{\\boldsymbol{\\theta}}p_{\\text{CD}}\n",
    "$$"
   ]
  },
  {
   "cell_type": "markdown",
   "metadata": {
    "id": "k5Bb6dKi6Dvb"
   },
   "source": [
    "$$\n",
    "\\boldsymbol{\\theta}^{(t+1)}\n",
    "=\\boldsymbol{\\theta}^{(t)}+\\eta\\mathbb{E}\\left[\n",
    "\\alpha(\\mathbf{x}^{(0)},\\mathbf{x}^{(1)},\\dots\\mathbf{x}^{(5)})\n",
    "\\left(\n",
    "\\nabla_{\\boldsymbol{\\theta}} E(\\mathbf{x}^{(5)};\\boldsymbol{\\theta})\n",
    "-\\nabla_{\\boldsymbol{\\theta}} E(\\mathbf{x}^{(0)};\\boldsymbol{\\theta})\n",
    "\\right)\\right]\n",
    "$$"
   ]
  },
  {
   "cell_type": "markdown",
   "metadata": {
    "id": "vqXLR4FP728x"
   },
   "source": [
    "$$\n",
    "\\alpha(\\mathbf{x}^{(0)},\\mathbf{x}^{(1)},\\dots\\mathbf{x}^{(5)})=\\left(1+\\frac\n",
    "{p(\\mathbf{x}^{(0)}|\\mathbf{x}^{(1)})\\cdots p(\\mathbf{x}^{(3)}|\\mathbf{x}^{(4)})p(\\mathbf{x}^{(5)};\\boldsymbol{\\theta})}\n",
    "{p(\\mathbf{x}^{(0)}|\\mathbf{x}^{(1)})\\cdots p(\\mathbf{x}^{(1)}|\\mathbf{x}^{(0)})p(\\mathbf{x}^{(0)};\\boldsymbol{\\theta})}\n",
    "\\right)^{-1}\n",
    "$$"
   ]
  },
  {
   "cell_type": "code",
   "execution_count": null,
   "metadata": {
    "id": "TxTpz82DR6aO"
   },
   "outputs": [],
   "source": []
  },
  {
   "cell_type": "code",
   "execution_count": 23,
   "metadata": {
    "ExecuteTime": {
     "end_time": "2022-01-15T00:54:44.126175Z",
     "start_time": "2022-01-15T00:54:44.116177Z"
    }
   },
   "outputs": [
    {
     "name": "stdout",
     "output_type": "stream",
     "text": [
      "\\\\definecolor{color1}{rgb}{0.12,0.47,0.71}\n",
      "\\\\definecolor{color2}{rgb}{1.00,0.50,0.05}\n",
      "\\\\definecolor{color3}{rgb}{0.17,0.63,0.17}\n",
      "\\\\definecolor{color4}{rgb}{0.84,0.15,0.16}\n",
      "\\\\definecolor{color5}{rgb}{0.58,0.40,0.74}\n",
      "\\\\definecolor{color6}{rgb}{0.55,0.34,0.29}\n",
      "\\\\definecolor{color7}{rgb}{0.81,0.93,0.98}\n",
      "\\\\definecolor{color8}{rgb}{0.50,0.50,0.50}\n",
      "\\\\definecolor{color9}{rgb}{0.74,0.74,0.13}\n",
      "\\\\definecolor{color10}{rgb}{0.09,0.75,0.81}\n"
     ]
    }
   ],
   "source": [
    "colors_hex = \"\"\"1F77B4\n",
    "FF7F0E\n",
    "2CA02C\n",
    "D62728\n",
    "9467BD\n",
    "8C564B\n",
    "CFECF9\n",
    "7F7F7F\n",
    "BCBD22\n",
    "17BECF\"\"\"\n",
    "\n",
    "for i, color_hex in enumerate(colors_hex.split('\\n')):\n",
    "    color_rgb = np.array([int(color_hex[0:2], 16),\n",
    "                          int(color_hex[2:4], 16),\n",
    "                          int(color_hex[4:6], 16)]) / 255\n",
    "    print(f'\\\\\\\\definecolor{{color{i + 1}}}{{rgb}}{{{color_rgb[0]:.2f},{color_rgb[1]:.2f},{color_rgb[2]:.2f}}}')\n"
   ]
  },
  {
   "cell_type": "code",
   "execution_count": 36,
   "metadata": {
    "ExecuteTime": {
     "end_time": "2022-01-15T12:40:04.826084Z",
     "start_time": "2022-01-15T12:40:04.812519Z"
    }
   },
   "outputs": [
    {
     "name": "stdout",
     "output_type": "stream",
     "text": [
      "→b'\\\\u2192'\n",
      "➤b'\\\\u27a4'\n",
      "➜b'\\\\u279c'\n",
      "➱b'\\\\u27b1'\n",
      "➨b'\\\\u27a8'\n",
      "➽b'\\\\u27bd'\n",
      "➙b'\\\\u2799'\n",
      "➫b'\\\\u27ab'\n"
     ]
    }
   ],
   "source": [
    "txt = '→➤➜➱➨➽➙➫'\n",
    "for ch in txt:\n",
    "    print(ch + str(ch.encode(\"unicode_escape\")))"
   ]
  },
  {
   "cell_type": "code",
   "execution_count": 37,
   "metadata": {
    "ExecuteTime": {
     "end_time": "2022-01-15T12:40:05.372136Z",
     "start_time": "2022-01-15T12:40:05.369536Z"
    }
   },
   "outputs": [
    {
     "data": {
      "text/plain": [
       "'%E2%86%92%E2%9E%A4%E2%9E%9C%E2%9E%B1%E2%9E%A8%E2%9E%BD%E2%9E%99%E2%9E%AB'"
      ]
     },
     "execution_count": 37,
     "metadata": {},
     "output_type": "execute_result"
    }
   ],
   "source": [
    "import urllib.parse\n",
    "urllib.parse.quote_plus(txt)"
   ]
  },
  {
   "cell_type": "code",
   "execution_count": null,
   "metadata": {},
   "outputs": [],
   "source": []
  }
 ],
 "metadata": {
  "colab": {
   "name": "Slides.ipynb",
   "provenance": []
  },
  "kernelspec": {
   "display_name": "Python 3",
   "language": "python",
   "name": "python3"
  },
  "language_info": {
   "codemirror_mode": {
    "name": "ipython",
    "version": 3
   },
   "file_extension": ".py",
   "mimetype": "text/x-python",
   "name": "python",
   "nbconvert_exporter": "python",
   "pygments_lexer": "ipython3",
   "version": "3.8.0"
  },
  "varInspector": {
   "cols": {
    "lenName": 16,
    "lenType": 16,
    "lenVar": 40
   },
   "kernels_config": {
    "python": {
     "delete_cmd_postfix": "",
     "delete_cmd_prefix": "del ",
     "library": "var_list.py",
     "varRefreshCmd": "print(var_dic_list())"
    },
    "r": {
     "delete_cmd_postfix": ") ",
     "delete_cmd_prefix": "rm(",
     "library": "var_list.r",
     "varRefreshCmd": "cat(var_dic_list()) "
    }
   },
   "types_to_exclude": [
    "module",
    "function",
    "builtin_function_or_method",
    "instance",
    "_Feature"
   ],
   "window_display": false
  },
  "widgets": {
   "application/vnd.jupyter.widget-state+json": {
    "098951ff182245cbbf4d4cecf3bb9ec6": {
     "model_module": "@jupyter-widgets/controls",
     "model_module_version": "1.5.0",
     "model_name": "FloatProgressModel",
     "state": {
      "_dom_classes": [],
      "_model_module": "@jupyter-widgets/controls",
      "_model_module_version": "1.5.0",
      "_model_name": "FloatProgressModel",
      "_view_count": null,
      "_view_module": "@jupyter-widgets/controls",
      "_view_module_version": "1.5.0",
      "_view_name": "ProgressView",
      "bar_style": "success",
      "description": "100%",
      "description_tooltip": null,
      "layout": "IPY_MODEL_320a4babbcd04a7cac9c96b4601685cf",
      "max": 5,
      "min": 0,
      "orientation": "horizontal",
      "style": "IPY_MODEL_fb9261605b67456bb9ea48c0d5439c9c",
      "value": 5
     }
    },
    "0b842e5a3dd64f05856cc9ec1866f1ed": {
     "model_module": "@jupyter-widgets/controls",
     "model_module_version": "1.5.0",
     "model_name": "HBoxModel",
     "state": {
      "_dom_classes": [],
      "_model_module": "@jupyter-widgets/controls",
      "_model_module_version": "1.5.0",
      "_model_name": "HBoxModel",
      "_view_count": null,
      "_view_module": "@jupyter-widgets/controls",
      "_view_module_version": "1.5.0",
      "_view_name": "HBoxView",
      "box_style": "",
      "children": [
       "IPY_MODEL_098951ff182245cbbf4d4cecf3bb9ec6",
       "IPY_MODEL_376dc06210614865be9c7fc300c22ebd"
      ],
      "layout": "IPY_MODEL_8964b77e81c54987b751f724869c874a"
     }
    },
    "10520cebf7ef4d89ab41760868b474fa": {
     "model_module": "@jupyter-widgets/base",
     "model_module_version": "1.2.0",
     "model_name": "LayoutModel",
     "state": {
      "_model_module": "@jupyter-widgets/base",
      "_model_module_version": "1.2.0",
      "_model_name": "LayoutModel",
      "_view_count": null,
      "_view_module": "@jupyter-widgets/base",
      "_view_module_version": "1.2.0",
      "_view_name": "LayoutView",
      "align_content": null,
      "align_items": null,
      "align_self": null,
      "border": null,
      "bottom": null,
      "display": null,
      "flex": null,
      "flex_flow": null,
      "grid_area": null,
      "grid_auto_columns": null,
      "grid_auto_flow": null,
      "grid_auto_rows": null,
      "grid_column": null,
      "grid_gap": null,
      "grid_row": null,
      "grid_template_areas": null,
      "grid_template_columns": null,
      "grid_template_rows": null,
      "height": null,
      "justify_content": null,
      "justify_items": null,
      "left": null,
      "margin": null,
      "max_height": null,
      "max_width": null,
      "min_height": null,
      "min_width": null,
      "object_fit": null,
      "object_position": null,
      "order": null,
      "overflow": null,
      "overflow_x": null,
      "overflow_y": null,
      "padding": null,
      "right": null,
      "top": null,
      "visibility": null,
      "width": null
     }
    },
    "14799b80303d417ea5692470a456dc47": {
     "model_module": "@jupyter-widgets/base",
     "model_module_version": "1.2.0",
     "model_name": "LayoutModel",
     "state": {
      "_model_module": "@jupyter-widgets/base",
      "_model_module_version": "1.2.0",
      "_model_name": "LayoutModel",
      "_view_count": null,
      "_view_module": "@jupyter-widgets/base",
      "_view_module_version": "1.2.0",
      "_view_name": "LayoutView",
      "align_content": null,
      "align_items": null,
      "align_self": null,
      "border": null,
      "bottom": null,
      "display": null,
      "flex": null,
      "flex_flow": null,
      "grid_area": null,
      "grid_auto_columns": null,
      "grid_auto_flow": null,
      "grid_auto_rows": null,
      "grid_column": null,
      "grid_gap": null,
      "grid_row": null,
      "grid_template_areas": null,
      "grid_template_columns": null,
      "grid_template_rows": null,
      "height": null,
      "justify_content": null,
      "justify_items": null,
      "left": null,
      "margin": null,
      "max_height": null,
      "max_width": null,
      "min_height": null,
      "min_width": null,
      "object_fit": null,
      "object_position": null,
      "order": null,
      "overflow": null,
      "overflow_x": null,
      "overflow_y": null,
      "padding": null,
      "right": null,
      "top": null,
      "visibility": null,
      "width": null
     }
    },
    "1c96894878fa431f9589e15efa85e6e9": {
     "model_module": "@jupyter-widgets/base",
     "model_module_version": "1.2.0",
     "model_name": "LayoutModel",
     "state": {
      "_model_module": "@jupyter-widgets/base",
      "_model_module_version": "1.2.0",
      "_model_name": "LayoutModel",
      "_view_count": null,
      "_view_module": "@jupyter-widgets/base",
      "_view_module_version": "1.2.0",
      "_view_name": "LayoutView",
      "align_content": null,
      "align_items": null,
      "align_self": null,
      "border": null,
      "bottom": null,
      "display": null,
      "flex": null,
      "flex_flow": null,
      "grid_area": null,
      "grid_auto_columns": null,
      "grid_auto_flow": null,
      "grid_auto_rows": null,
      "grid_column": null,
      "grid_gap": null,
      "grid_row": null,
      "grid_template_areas": null,
      "grid_template_columns": null,
      "grid_template_rows": null,
      "height": null,
      "justify_content": null,
      "justify_items": null,
      "left": null,
      "margin": null,
      "max_height": null,
      "max_width": null,
      "min_height": null,
      "min_width": null,
      "object_fit": null,
      "object_position": null,
      "order": null,
      "overflow": null,
      "overflow_x": null,
      "overflow_y": null,
      "padding": null,
      "right": null,
      "top": null,
      "visibility": null,
      "width": null
     }
    },
    "2249a19dafa24e458b5fd8a7b67b4968": {
     "model_module": "@jupyter-widgets/controls",
     "model_module_version": "1.5.0",
     "model_name": "ProgressStyleModel",
     "state": {
      "_model_module": "@jupyter-widgets/controls",
      "_model_module_version": "1.5.0",
      "_model_name": "ProgressStyleModel",
      "_view_count": null,
      "_view_module": "@jupyter-widgets/base",
      "_view_module_version": "1.2.0",
      "_view_name": "StyleView",
      "bar_color": null,
      "description_width": "initial"
     }
    },
    "2e3c4002792041b0a9ba3eda9b1de835": {
     "model_module": "@jupyter-widgets/controls",
     "model_module_version": "1.5.0",
     "model_name": "HTMLModel",
     "state": {
      "_dom_classes": [],
      "_model_module": "@jupyter-widgets/controls",
      "_model_module_version": "1.5.0",
      "_model_name": "HTMLModel",
      "_view_count": null,
      "_view_module": "@jupyter-widgets/controls",
      "_view_module_version": "1.5.0",
      "_view_name": "HTMLView",
      "description": "",
      "description_tooltip": null,
      "layout": "IPY_MODEL_14799b80303d417ea5692470a456dc47",
      "placeholder": "​",
      "style": "IPY_MODEL_b68c855c15ff41bc88f5af0796d7afe2",
      "value": " 6/6 [00:01&lt;00:00,  3.91it/s]"
     }
    },
    "320a4babbcd04a7cac9c96b4601685cf": {
     "model_module": "@jupyter-widgets/base",
     "model_module_version": "1.2.0",
     "model_name": "LayoutModel",
     "state": {
      "_model_module": "@jupyter-widgets/base",
      "_model_module_version": "1.2.0",
      "_model_name": "LayoutModel",
      "_view_count": null,
      "_view_module": "@jupyter-widgets/base",
      "_view_module_version": "1.2.0",
      "_view_name": "LayoutView",
      "align_content": null,
      "align_items": null,
      "align_self": null,
      "border": null,
      "bottom": null,
      "display": null,
      "flex": null,
      "flex_flow": null,
      "grid_area": null,
      "grid_auto_columns": null,
      "grid_auto_flow": null,
      "grid_auto_rows": null,
      "grid_column": null,
      "grid_gap": null,
      "grid_row": null,
      "grid_template_areas": null,
      "grid_template_columns": null,
      "grid_template_rows": null,
      "height": null,
      "justify_content": null,
      "justify_items": null,
      "left": null,
      "margin": null,
      "max_height": null,
      "max_width": null,
      "min_height": null,
      "min_width": null,
      "object_fit": null,
      "object_position": null,
      "order": null,
      "overflow": null,
      "overflow_x": null,
      "overflow_y": null,
      "padding": null,
      "right": null,
      "top": null,
      "visibility": null,
      "width": null
     }
    },
    "376dc06210614865be9c7fc300c22ebd": {
     "model_module": "@jupyter-widgets/controls",
     "model_module_version": "1.5.0",
     "model_name": "HTMLModel",
     "state": {
      "_dom_classes": [],
      "_model_module": "@jupyter-widgets/controls",
      "_model_module_version": "1.5.0",
      "_model_name": "HTMLModel",
      "_view_count": null,
      "_view_module": "@jupyter-widgets/controls",
      "_view_module_version": "1.5.0",
      "_view_name": "HTMLView",
      "description": "",
      "description_tooltip": null,
      "layout": "IPY_MODEL_99cb9f4943e3483ea8b6d474d698cba3",
      "placeholder": "​",
      "style": "IPY_MODEL_bf9c1df323964ac9b94b65e3969fa24a",
      "value": " 5/5 [00:01&lt;00:00,  2.67it/s]"
     }
    },
    "3aac2dbb2c27467aa93cac6cd020e628": {
     "model_module": "@jupyter-widgets/base",
     "model_module_version": "1.2.0",
     "model_name": "LayoutModel",
     "state": {
      "_model_module": "@jupyter-widgets/base",
      "_model_module_version": "1.2.0",
      "_model_name": "LayoutModel",
      "_view_count": null,
      "_view_module": "@jupyter-widgets/base",
      "_view_module_version": "1.2.0",
      "_view_name": "LayoutView",
      "align_content": null,
      "align_items": null,
      "align_self": null,
      "border": null,
      "bottom": null,
      "display": null,
      "flex": null,
      "flex_flow": null,
      "grid_area": null,
      "grid_auto_columns": null,
      "grid_auto_flow": null,
      "grid_auto_rows": null,
      "grid_column": null,
      "grid_gap": null,
      "grid_row": null,
      "grid_template_areas": null,
      "grid_template_columns": null,
      "grid_template_rows": null,
      "height": null,
      "justify_content": null,
      "justify_items": null,
      "left": null,
      "margin": null,
      "max_height": null,
      "max_width": null,
      "min_height": null,
      "min_width": null,
      "object_fit": null,
      "object_position": null,
      "order": null,
      "overflow": null,
      "overflow_x": null,
      "overflow_y": null,
      "padding": null,
      "right": null,
      "top": null,
      "visibility": null,
      "width": null
     }
    },
    "4a1943296cdf4b1881a3844757093915": {
     "model_module": "@jupyter-widgets/controls",
     "model_module_version": "1.5.0",
     "model_name": "FloatProgressModel",
     "state": {
      "_dom_classes": [],
      "_model_module": "@jupyter-widgets/controls",
      "_model_module_version": "1.5.0",
      "_model_name": "FloatProgressModel",
      "_view_count": null,
      "_view_module": "@jupyter-widgets/controls",
      "_view_module_version": "1.5.0",
      "_view_name": "ProgressView",
      "bar_style": "success",
      "description": "100%",
      "description_tooltip": null,
      "layout": "IPY_MODEL_bac59a3056ca4aafb8b8529601412fff",
      "max": 67,
      "min": 0,
      "orientation": "horizontal",
      "style": "IPY_MODEL_79dd6eda198645d4b171ae015a77c751",
      "value": 67
     }
    },
    "4ab25c49bf664d97a654a389983f22b4": {
     "model_module": "@jupyter-widgets/controls",
     "model_module_version": "1.5.0",
     "model_name": "ProgressStyleModel",
     "state": {
      "_model_module": "@jupyter-widgets/controls",
      "_model_module_version": "1.5.0",
      "_model_name": "ProgressStyleModel",
      "_view_count": null,
      "_view_module": "@jupyter-widgets/base",
      "_view_module_version": "1.2.0",
      "_view_name": "StyleView",
      "bar_color": null,
      "description_width": "initial"
     }
    },
    "5dda4d60b7dc48a2b9155827a5ebb795": {
     "model_module": "@jupyter-widgets/controls",
     "model_module_version": "1.5.0",
     "model_name": "FloatProgressModel",
     "state": {
      "_dom_classes": [],
      "_model_module": "@jupyter-widgets/controls",
      "_model_module_version": "1.5.0",
      "_model_name": "FloatProgressModel",
      "_view_count": null,
      "_view_module": "@jupyter-widgets/controls",
      "_view_module_version": "1.5.0",
      "_view_name": "ProgressView",
      "bar_style": "success",
      "description": "100%",
      "description_tooltip": null,
      "layout": "IPY_MODEL_f1a00b8f3d9d49fdb112b578b9e6cfbf",
      "max": 6,
      "min": 0,
      "orientation": "horizontal",
      "style": "IPY_MODEL_2249a19dafa24e458b5fd8a7b67b4968",
      "value": 6
     }
    },
    "79dd6eda198645d4b171ae015a77c751": {
     "model_module": "@jupyter-widgets/controls",
     "model_module_version": "1.5.0",
     "model_name": "ProgressStyleModel",
     "state": {
      "_model_module": "@jupyter-widgets/controls",
      "_model_module_version": "1.5.0",
      "_model_name": "ProgressStyleModel",
      "_view_count": null,
      "_view_module": "@jupyter-widgets/base",
      "_view_module_version": "1.2.0",
      "_view_name": "StyleView",
      "bar_color": null,
      "description_width": "initial"
     }
    },
    "7d6918785f144fb8993ba5685349b47f": {
     "model_module": "@jupyter-widgets/base",
     "model_module_version": "1.2.0",
     "model_name": "LayoutModel",
     "state": {
      "_model_module": "@jupyter-widgets/base",
      "_model_module_version": "1.2.0",
      "_model_name": "LayoutModel",
      "_view_count": null,
      "_view_module": "@jupyter-widgets/base",
      "_view_module_version": "1.2.0",
      "_view_name": "LayoutView",
      "align_content": null,
      "align_items": null,
      "align_self": null,
      "border": null,
      "bottom": null,
      "display": null,
      "flex": null,
      "flex_flow": null,
      "grid_area": null,
      "grid_auto_columns": null,
      "grid_auto_flow": null,
      "grid_auto_rows": null,
      "grid_column": null,
      "grid_gap": null,
      "grid_row": null,
      "grid_template_areas": null,
      "grid_template_columns": null,
      "grid_template_rows": null,
      "height": null,
      "justify_content": null,
      "justify_items": null,
      "left": null,
      "margin": null,
      "max_height": null,
      "max_width": null,
      "min_height": null,
      "min_width": null,
      "object_fit": null,
      "object_position": null,
      "order": null,
      "overflow": null,
      "overflow_x": null,
      "overflow_y": null,
      "padding": null,
      "right": null,
      "top": null,
      "visibility": null,
      "width": null
     }
    },
    "81496da95e0f4a31a7b828d8fcd43527": {
     "model_module": "@jupyter-widgets/base",
     "model_module_version": "1.2.0",
     "model_name": "LayoutModel",
     "state": {
      "_model_module": "@jupyter-widgets/base",
      "_model_module_version": "1.2.0",
      "_model_name": "LayoutModel",
      "_view_count": null,
      "_view_module": "@jupyter-widgets/base",
      "_view_module_version": "1.2.0",
      "_view_name": "LayoutView",
      "align_content": null,
      "align_items": null,
      "align_self": null,
      "border": null,
      "bottom": null,
      "display": null,
      "flex": null,
      "flex_flow": null,
      "grid_area": null,
      "grid_auto_columns": null,
      "grid_auto_flow": null,
      "grid_auto_rows": null,
      "grid_column": null,
      "grid_gap": null,
      "grid_row": null,
      "grid_template_areas": null,
      "grid_template_columns": null,
      "grid_template_rows": null,
      "height": null,
      "justify_content": null,
      "justify_items": null,
      "left": null,
      "margin": null,
      "max_height": null,
      "max_width": null,
      "min_height": null,
      "min_width": null,
      "object_fit": null,
      "object_position": null,
      "order": null,
      "overflow": null,
      "overflow_x": null,
      "overflow_y": null,
      "padding": null,
      "right": null,
      "top": null,
      "visibility": null,
      "width": null
     }
    },
    "815d02d7131541af887f78b77d063beb": {
     "model_module": "@jupyter-widgets/base",
     "model_module_version": "1.2.0",
     "model_name": "LayoutModel",
     "state": {
      "_model_module": "@jupyter-widgets/base",
      "_model_module_version": "1.2.0",
      "_model_name": "LayoutModel",
      "_view_count": null,
      "_view_module": "@jupyter-widgets/base",
      "_view_module_version": "1.2.0",
      "_view_name": "LayoutView",
      "align_content": null,
      "align_items": null,
      "align_self": null,
      "border": null,
      "bottom": null,
      "display": null,
      "flex": null,
      "flex_flow": null,
      "grid_area": null,
      "grid_auto_columns": null,
      "grid_auto_flow": null,
      "grid_auto_rows": null,
      "grid_column": null,
      "grid_gap": null,
      "grid_row": null,
      "grid_template_areas": null,
      "grid_template_columns": null,
      "grid_template_rows": null,
      "height": null,
      "justify_content": null,
      "justify_items": null,
      "left": null,
      "margin": null,
      "max_height": null,
      "max_width": null,
      "min_height": null,
      "min_width": null,
      "object_fit": null,
      "object_position": null,
      "order": null,
      "overflow": null,
      "overflow_x": null,
      "overflow_y": null,
      "padding": null,
      "right": null,
      "top": null,
      "visibility": null,
      "width": null
     }
    },
    "8964b77e81c54987b751f724869c874a": {
     "model_module": "@jupyter-widgets/base",
     "model_module_version": "1.2.0",
     "model_name": "LayoutModel",
     "state": {
      "_model_module": "@jupyter-widgets/base",
      "_model_module_version": "1.2.0",
      "_model_name": "LayoutModel",
      "_view_count": null,
      "_view_module": "@jupyter-widgets/base",
      "_view_module_version": "1.2.0",
      "_view_name": "LayoutView",
      "align_content": null,
      "align_items": null,
      "align_self": null,
      "border": null,
      "bottom": null,
      "display": null,
      "flex": null,
      "flex_flow": null,
      "grid_area": null,
      "grid_auto_columns": null,
      "grid_auto_flow": null,
      "grid_auto_rows": null,
      "grid_column": null,
      "grid_gap": null,
      "grid_row": null,
      "grid_template_areas": null,
      "grid_template_columns": null,
      "grid_template_rows": null,
      "height": null,
      "justify_content": null,
      "justify_items": null,
      "left": null,
      "margin": null,
      "max_height": null,
      "max_width": null,
      "min_height": null,
      "min_width": null,
      "object_fit": null,
      "object_position": null,
      "order": null,
      "overflow": null,
      "overflow_x": null,
      "overflow_y": null,
      "padding": null,
      "right": null,
      "top": null,
      "visibility": null,
      "width": null
     }
    },
    "8ef9a9e459c64548a25f8d747a2db074": {
     "model_module": "@jupyter-widgets/controls",
     "model_module_version": "1.5.0",
     "model_name": "HTMLModel",
     "state": {
      "_dom_classes": [],
      "_model_module": "@jupyter-widgets/controls",
      "_model_module_version": "1.5.0",
      "_model_name": "HTMLModel",
      "_view_count": null,
      "_view_module": "@jupyter-widgets/controls",
      "_view_module_version": "1.5.0",
      "_view_name": "HTMLView",
      "description": "",
      "description_tooltip": null,
      "layout": "IPY_MODEL_10520cebf7ef4d89ab41760868b474fa",
      "placeholder": "​",
      "style": "IPY_MODEL_cd03c8dd7721474d87ba350782918912",
      "value": " 6/6 [00:03&lt;00:00,  1.69it/s]"
     }
    },
    "99cb9f4943e3483ea8b6d474d698cba3": {
     "model_module": "@jupyter-widgets/base",
     "model_module_version": "1.2.0",
     "model_name": "LayoutModel",
     "state": {
      "_model_module": "@jupyter-widgets/base",
      "_model_module_version": "1.2.0",
      "_model_name": "LayoutModel",
      "_view_count": null,
      "_view_module": "@jupyter-widgets/base",
      "_view_module_version": "1.2.0",
      "_view_name": "LayoutView",
      "align_content": null,
      "align_items": null,
      "align_self": null,
      "border": null,
      "bottom": null,
      "display": null,
      "flex": null,
      "flex_flow": null,
      "grid_area": null,
      "grid_auto_columns": null,
      "grid_auto_flow": null,
      "grid_auto_rows": null,
      "grid_column": null,
      "grid_gap": null,
      "grid_row": null,
      "grid_template_areas": null,
      "grid_template_columns": null,
      "grid_template_rows": null,
      "height": null,
      "justify_content": null,
      "justify_items": null,
      "left": null,
      "margin": null,
      "max_height": null,
      "max_width": null,
      "min_height": null,
      "min_width": null,
      "object_fit": null,
      "object_position": null,
      "order": null,
      "overflow": null,
      "overflow_x": null,
      "overflow_y": null,
      "padding": null,
      "right": null,
      "top": null,
      "visibility": null,
      "width": null
     }
    },
    "b68c855c15ff41bc88f5af0796d7afe2": {
     "model_module": "@jupyter-widgets/controls",
     "model_module_version": "1.5.0",
     "model_name": "DescriptionStyleModel",
     "state": {
      "_model_module": "@jupyter-widgets/controls",
      "_model_module_version": "1.5.0",
      "_model_name": "DescriptionStyleModel",
      "_view_count": null,
      "_view_module": "@jupyter-widgets/base",
      "_view_module_version": "1.2.0",
      "_view_name": "StyleView",
      "description_width": ""
     }
    },
    "bac2aea99c204ca49870f8e7749dcdc9": {
     "model_module": "@jupyter-widgets/controls",
     "model_module_version": "1.5.0",
     "model_name": "DescriptionStyleModel",
     "state": {
      "_model_module": "@jupyter-widgets/controls",
      "_model_module_version": "1.5.0",
      "_model_name": "DescriptionStyleModel",
      "_view_count": null,
      "_view_module": "@jupyter-widgets/base",
      "_view_module_version": "1.2.0",
      "_view_name": "StyleView",
      "description_width": ""
     }
    },
    "bac59a3056ca4aafb8b8529601412fff": {
     "model_module": "@jupyter-widgets/base",
     "model_module_version": "1.2.0",
     "model_name": "LayoutModel",
     "state": {
      "_model_module": "@jupyter-widgets/base",
      "_model_module_version": "1.2.0",
      "_model_name": "LayoutModel",
      "_view_count": null,
      "_view_module": "@jupyter-widgets/base",
      "_view_module_version": "1.2.0",
      "_view_name": "LayoutView",
      "align_content": null,
      "align_items": null,
      "align_self": null,
      "border": null,
      "bottom": null,
      "display": null,
      "flex": null,
      "flex_flow": null,
      "grid_area": null,
      "grid_auto_columns": null,
      "grid_auto_flow": null,
      "grid_auto_rows": null,
      "grid_column": null,
      "grid_gap": null,
      "grid_row": null,
      "grid_template_areas": null,
      "grid_template_columns": null,
      "grid_template_rows": null,
      "height": null,
      "justify_content": null,
      "justify_items": null,
      "left": null,
      "margin": null,
      "max_height": null,
      "max_width": null,
      "min_height": null,
      "min_width": null,
      "object_fit": null,
      "object_position": null,
      "order": null,
      "overflow": null,
      "overflow_x": null,
      "overflow_y": null,
      "padding": null,
      "right": null,
      "top": null,
      "visibility": null,
      "width": null
     }
    },
    "bcef2cdf731b4f4e928a66f997fe65cc": {
     "model_module": "@jupyter-widgets/controls",
     "model_module_version": "1.5.0",
     "model_name": "HBoxModel",
     "state": {
      "_dom_classes": [],
      "_model_module": "@jupyter-widgets/controls",
      "_model_module_version": "1.5.0",
      "_model_name": "HBoxModel",
      "_view_count": null,
      "_view_module": "@jupyter-widgets/controls",
      "_view_module_version": "1.5.0",
      "_view_name": "HBoxView",
      "box_style": "",
      "children": [
       "IPY_MODEL_5dda4d60b7dc48a2b9155827a5ebb795",
       "IPY_MODEL_2e3c4002792041b0a9ba3eda9b1de835"
      ],
      "layout": "IPY_MODEL_1c96894878fa431f9589e15efa85e6e9"
     }
    },
    "be09a9eff4b344a7a9f86d585e933c1f": {
     "model_module": "@jupyter-widgets/controls",
     "model_module_version": "1.5.0",
     "model_name": "HBoxModel",
     "state": {
      "_dom_classes": [],
      "_model_module": "@jupyter-widgets/controls",
      "_model_module_version": "1.5.0",
      "_model_name": "HBoxModel",
      "_view_count": null,
      "_view_module": "@jupyter-widgets/controls",
      "_view_module_version": "1.5.0",
      "_view_name": "HBoxView",
      "box_style": "",
      "children": [
       "IPY_MODEL_4a1943296cdf4b1881a3844757093915",
       "IPY_MODEL_dd665cf23e834330bdcda2929da3219b"
      ],
      "layout": "IPY_MODEL_7d6918785f144fb8993ba5685349b47f"
     }
    },
    "bf9c1df323964ac9b94b65e3969fa24a": {
     "model_module": "@jupyter-widgets/controls",
     "model_module_version": "1.5.0",
     "model_name": "DescriptionStyleModel",
     "state": {
      "_model_module": "@jupyter-widgets/controls",
      "_model_module_version": "1.5.0",
      "_model_name": "DescriptionStyleModel",
      "_view_count": null,
      "_view_module": "@jupyter-widgets/base",
      "_view_module_version": "1.2.0",
      "_view_name": "StyleView",
      "description_width": ""
     }
    },
    "cd03c8dd7721474d87ba350782918912": {
     "model_module": "@jupyter-widgets/controls",
     "model_module_version": "1.5.0",
     "model_name": "DescriptionStyleModel",
     "state": {
      "_model_module": "@jupyter-widgets/controls",
      "_model_module_version": "1.5.0",
      "_model_name": "DescriptionStyleModel",
      "_view_count": null,
      "_view_module": "@jupyter-widgets/base",
      "_view_module_version": "1.2.0",
      "_view_name": "StyleView",
      "description_width": ""
     }
    },
    "dd665cf23e834330bdcda2929da3219b": {
     "model_module": "@jupyter-widgets/controls",
     "model_module_version": "1.5.0",
     "model_name": "HTMLModel",
     "state": {
      "_dom_classes": [],
      "_model_module": "@jupyter-widgets/controls",
      "_model_module_version": "1.5.0",
      "_model_name": "HTMLModel",
      "_view_count": null,
      "_view_module": "@jupyter-widgets/controls",
      "_view_module_version": "1.5.0",
      "_view_name": "HTMLView",
      "description": "",
      "description_tooltip": null,
      "layout": "IPY_MODEL_3aac2dbb2c27467aa93cac6cd020e628",
      "placeholder": "​",
      "style": "IPY_MODEL_bac2aea99c204ca49870f8e7749dcdc9",
      "value": " 67/67 [00:16&lt;00:00,  4.06it/s]"
     }
    },
    "ec0575be31d74b7b8965160eeec2187a": {
     "model_module": "@jupyter-widgets/controls",
     "model_module_version": "1.5.0",
     "model_name": "FloatProgressModel",
     "state": {
      "_dom_classes": [],
      "_model_module": "@jupyter-widgets/controls",
      "_model_module_version": "1.5.0",
      "_model_name": "FloatProgressModel",
      "_view_count": null,
      "_view_module": "@jupyter-widgets/controls",
      "_view_module_version": "1.5.0",
      "_view_name": "ProgressView",
      "bar_style": "success",
      "description": "100%",
      "description_tooltip": null,
      "layout": "IPY_MODEL_815d02d7131541af887f78b77d063beb",
      "max": 6,
      "min": 0,
      "orientation": "horizontal",
      "style": "IPY_MODEL_4ab25c49bf664d97a654a389983f22b4",
      "value": 6
     }
    },
    "f1a00b8f3d9d49fdb112b578b9e6cfbf": {
     "model_module": "@jupyter-widgets/base",
     "model_module_version": "1.2.0",
     "model_name": "LayoutModel",
     "state": {
      "_model_module": "@jupyter-widgets/base",
      "_model_module_version": "1.2.0",
      "_model_name": "LayoutModel",
      "_view_count": null,
      "_view_module": "@jupyter-widgets/base",
      "_view_module_version": "1.2.0",
      "_view_name": "LayoutView",
      "align_content": null,
      "align_items": null,
      "align_self": null,
      "border": null,
      "bottom": null,
      "display": null,
      "flex": null,
      "flex_flow": null,
      "grid_area": null,
      "grid_auto_columns": null,
      "grid_auto_flow": null,
      "grid_auto_rows": null,
      "grid_column": null,
      "grid_gap": null,
      "grid_row": null,
      "grid_template_areas": null,
      "grid_template_columns": null,
      "grid_template_rows": null,
      "height": null,
      "justify_content": null,
      "justify_items": null,
      "left": null,
      "margin": null,
      "max_height": null,
      "max_width": null,
      "min_height": null,
      "min_width": null,
      "object_fit": null,
      "object_position": null,
      "order": null,
      "overflow": null,
      "overflow_x": null,
      "overflow_y": null,
      "padding": null,
      "right": null,
      "top": null,
      "visibility": null,
      "width": null
     }
    },
    "f44f10b216ab4164becf3d713a4ec97f": {
     "model_module": "@jupyter-widgets/controls",
     "model_module_version": "1.5.0",
     "model_name": "HBoxModel",
     "state": {
      "_dom_classes": [],
      "_model_module": "@jupyter-widgets/controls",
      "_model_module_version": "1.5.0",
      "_model_name": "HBoxModel",
      "_view_count": null,
      "_view_module": "@jupyter-widgets/controls",
      "_view_module_version": "1.5.0",
      "_view_name": "HBoxView",
      "box_style": "",
      "children": [
       "IPY_MODEL_ec0575be31d74b7b8965160eeec2187a",
       "IPY_MODEL_8ef9a9e459c64548a25f8d747a2db074"
      ],
      "layout": "IPY_MODEL_81496da95e0f4a31a7b828d8fcd43527"
     }
    },
    "fb9261605b67456bb9ea48c0d5439c9c": {
     "model_module": "@jupyter-widgets/controls",
     "model_module_version": "1.5.0",
     "model_name": "ProgressStyleModel",
     "state": {
      "_model_module": "@jupyter-widgets/controls",
      "_model_module_version": "1.5.0",
      "_model_name": "ProgressStyleModel",
      "_view_count": null,
      "_view_module": "@jupyter-widgets/base",
      "_view_module_version": "1.2.0",
      "_view_name": "StyleView",
      "bar_color": null,
      "description_width": "initial"
     }
    }
   }
  }
 },
 "nbformat": 4,
 "nbformat_minor": 1
}
